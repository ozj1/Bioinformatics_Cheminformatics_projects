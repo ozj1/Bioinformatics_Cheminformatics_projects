{
 "cells": [
  {
   "cell_type": "markdown",
   "id": "aba3053d-c0b3-44f9-83de-d9d52a8e272e",
   "metadata": {},
   "source": [
    "# **Project Description**"
   ]
  },
  {
   "cell_type": "code",
   "execution_count": null,
   "id": "3d8e29ed-7e06-4fad-bd12-1810b0933b06",
   "metadata": {},
   "outputs": [],
   "source": []
  },
  {
   "cell_type": "markdown",
   "id": "4e397d5d",
   "metadata": {},
   "source": [
    "# **Section 1st: Downloading Bioactivity Data**"
   ]
  },
  {
   "cell_type": "markdown",
   "id": "822df630",
   "metadata": {},
   "source": [
    "Installing the ChEMBL web service package to extract bioactivity data from the [*ChEMBL Database*](https://www.ebi.ac.uk/chembl/). ChEMBL has ~ 2.4 Mil componenets as of Aug 2024"
   ]
  },
  {
   "cell_type": "code",
   "execution_count": 1,
   "id": "fc0cd5a4",
   "metadata": {},
   "outputs": [
    {
     "name": "stdout",
     "output_type": "stream",
     "text": [
      "Collecting chembl_webresource_client\n",
      "  Downloading chembl_webresource_client-0.10.9-py3-none-any.whl.metadata (1.4 kB)\n",
      "Requirement already satisfied: urllib3 in c:\\users\\oj53\\anaconda3\\envs\\aibaseddrugdiscovery\\lib\\site-packages (from chembl_webresource_client) (2.2.2)\n",
      "Requirement already satisfied: requests>=2.18.4 in c:\\users\\oj53\\anaconda3\\envs\\aibaseddrugdiscovery\\lib\\site-packages (from chembl_webresource_client) (2.32.3)\n",
      "Collecting requests-cache~=1.2 (from chembl_webresource_client)\n",
      "  Downloading requests_cache-1.2.1-py3-none-any.whl.metadata (9.9 kB)\n",
      "Collecting easydict (from chembl_webresource_client)\n",
      "  Downloading easydict-1.13-py3-none-any.whl.metadata (4.2 kB)\n",
      "Requirement already satisfied: charset-normalizer<4,>=2 in c:\\users\\oj53\\anaconda3\\envs\\aibaseddrugdiscovery\\lib\\site-packages (from requests>=2.18.4->chembl_webresource_client) (3.3.2)\n",
      "Requirement already satisfied: idna<4,>=2.5 in c:\\users\\oj53\\anaconda3\\envs\\aibaseddrugdiscovery\\lib\\site-packages (from requests>=2.18.4->chembl_webresource_client) (3.7)\n",
      "Requirement already satisfied: certifi>=2017.4.17 in c:\\users\\oj53\\anaconda3\\envs\\aibaseddrugdiscovery\\lib\\site-packages (from requests>=2.18.4->chembl_webresource_client) (2024.7.4)\n",
      "Requirement already satisfied: attrs>=21.2 in c:\\users\\oj53\\anaconda3\\envs\\aibaseddrugdiscovery\\lib\\site-packages (from requests-cache~=1.2->chembl_webresource_client) (23.1.0)\n",
      "Collecting cattrs>=22.2 (from requests-cache~=1.2->chembl_webresource_client)\n",
      "  Downloading cattrs-23.2.3-py3-none-any.whl.metadata (10 kB)\n",
      "Requirement already satisfied: platformdirs>=2.5 in c:\\users\\oj53\\anaconda3\\envs\\aibaseddrugdiscovery\\lib\\site-packages (from requests-cache~=1.2->chembl_webresource_client) (3.10.0)\n",
      "Collecting url-normalize>=1.4 (from requests-cache~=1.2->chembl_webresource_client)\n",
      "  Downloading url_normalize-1.4.3-py2.py3-none-any.whl.metadata (3.1 kB)\n",
      "Requirement already satisfied: six in c:\\users\\oj53\\anaconda3\\envs\\aibaseddrugdiscovery\\lib\\site-packages (from url-normalize>=1.4->requests-cache~=1.2->chembl_webresource_client) (1.16.0)\n",
      "Downloading chembl_webresource_client-0.10.9-py3-none-any.whl (55 kB)\n",
      "   ---------------------------------------- 0.0/55.2 kB ? eta -:--:--\n",
      "   ---------------------------------------- 55.2/55.2 kB 1.5 MB/s eta 0:00:00\n",
      "Downloading requests_cache-1.2.1-py3-none-any.whl (61 kB)\n",
      "   ---------------------------------------- 0.0/61.4 kB ? eta -:--:--\n",
      "   ---------------------------------------- 61.4/61.4 kB 3.2 MB/s eta 0:00:00\n",
      "Downloading easydict-1.13-py3-none-any.whl (6.8 kB)\n",
      "Downloading cattrs-23.2.3-py3-none-any.whl (57 kB)\n",
      "   ---------------------------------------- 0.0/57.5 kB ? eta -:--:--\n",
      "   ---------------------------------------- 57.5/57.5 kB 3.0 MB/s eta 0:00:00\n",
      "Downloading url_normalize-1.4.3-py2.py3-none-any.whl (6.8 kB)\n",
      "Installing collected packages: easydict, url-normalize, cattrs, requests-cache, chembl_webresource_client\n",
      "Successfully installed cattrs-23.2.3 chembl_webresource_client-0.10.9 easydict-1.13 requests-cache-1.2.1 url-normalize-1.4.3\n"
     ]
    }
   ],
   "source": [
    "! pip install chembl_webresource_client"
   ]
  },
  {
   "cell_type": "markdown",
   "id": "49af6b85-e983-4e2e-9f04-b7c81c31ba5e",
   "metadata": {},
   "source": [
    "# **Importing Libraries**"
   ]
  },
  {
   "cell_type": "code",
   "execution_count": 5,
   "id": "ebccf269-6213-420f-a70b-bfcf6f64da8e",
   "metadata": {},
   "outputs": [],
   "source": [
    "# Import necessary libraries\n",
    "import pandas as pd\n",
    "from chembl_webresource_client.new_client import new_client"
   ]
  },
  {
   "cell_type": "markdown",
   "id": "baa44b02-3bc2-49f4-b8ac-19fb146e49aa",
   "metadata": {},
   "source": [
    "# **Target Protein Selection**"
   ]
  },
  {
   "cell_type": "markdown",
   "id": "d9bf7fa7-86b2-4177-9229-2b4e43932d92",
   "metadata": {},
   "source": [
    "### **Protein Target search Coronavirus**\n",
    "### **Other example can be: Aromatase Protein Target search (Aromatase inhibitors (AIs) are drugs used to lower breast cancer risk)**\n",
    "### **Acetylcholine Protein target for Alzheimer's disease**\n",
    "But here I stick with Coronavirus"
   ]
  },
  {
   "cell_type": "code",
   "execution_count": 9,
   "id": "f7219b0c-6283-418f-9b48-6c9212bf3c8f",
   "metadata": {},
   "outputs": [
    {
     "data": {
      "text/html": [
       "<div>\n",
       "<style scoped>\n",
       "    .dataframe tbody tr th:only-of-type {\n",
       "        vertical-align: middle;\n",
       "    }\n",
       "\n",
       "    .dataframe tbody tr th {\n",
       "        vertical-align: top;\n",
       "    }\n",
       "\n",
       "    .dataframe thead th {\n",
       "        text-align: right;\n",
       "    }\n",
       "</style>\n",
       "<table border=\"1\" class=\"dataframe\">\n",
       "  <thead>\n",
       "    <tr style=\"text-align: right;\">\n",
       "      <th></th>\n",
       "      <th>cross_references</th>\n",
       "      <th>organism</th>\n",
       "      <th>pref_name</th>\n",
       "      <th>score</th>\n",
       "      <th>species_group_flag</th>\n",
       "      <th>target_chembl_id</th>\n",
       "      <th>target_components</th>\n",
       "      <th>target_type</th>\n",
       "      <th>tax_id</th>\n",
       "    </tr>\n",
       "  </thead>\n",
       "  <tbody>\n",
       "    <tr>\n",
       "      <th>0</th>\n",
       "      <td>[]</td>\n",
       "      <td>Coronavirus</td>\n",
       "      <td>Coronavirus</td>\n",
       "      <td>17.0</td>\n",
       "      <td>False</td>\n",
       "      <td>CHEMBL613732</td>\n",
       "      <td>[]</td>\n",
       "      <td>ORGANISM</td>\n",
       "      <td>11119</td>\n",
       "    </tr>\n",
       "    <tr>\n",
       "      <th>1</th>\n",
       "      <td>[]</td>\n",
       "      <td>Feline coronavirus</td>\n",
       "      <td>Feline coronavirus</td>\n",
       "      <td>14.0</td>\n",
       "      <td>False</td>\n",
       "      <td>CHEMBL612744</td>\n",
       "      <td>[]</td>\n",
       "      <td>ORGANISM</td>\n",
       "      <td>12663</td>\n",
       "    </tr>\n",
       "    <tr>\n",
       "      <th>2</th>\n",
       "      <td>[]</td>\n",
       "      <td>Murine coronavirus</td>\n",
       "      <td>Murine coronavirus</td>\n",
       "      <td>14.0</td>\n",
       "      <td>False</td>\n",
       "      <td>CHEMBL5209664</td>\n",
       "      <td>[]</td>\n",
       "      <td>ORGANISM</td>\n",
       "      <td>694005</td>\n",
       "    </tr>\n",
       "    <tr>\n",
       "      <th>3</th>\n",
       "      <td>[]</td>\n",
       "      <td>Canine coronavirus</td>\n",
       "      <td>Canine coronavirus</td>\n",
       "      <td>14.0</td>\n",
       "      <td>False</td>\n",
       "      <td>CHEMBL5291668</td>\n",
       "      <td>[]</td>\n",
       "      <td>ORGANISM</td>\n",
       "      <td>11153</td>\n",
       "    </tr>\n",
       "    <tr>\n",
       "      <th>4</th>\n",
       "      <td>[]</td>\n",
       "      <td>Human coronavirus 229E</td>\n",
       "      <td>Human coronavirus 229E</td>\n",
       "      <td>13.0</td>\n",
       "      <td>False</td>\n",
       "      <td>CHEMBL613837</td>\n",
       "      <td>[]</td>\n",
       "      <td>ORGANISM</td>\n",
       "      <td>11137</td>\n",
       "    </tr>\n",
       "    <tr>\n",
       "      <th>5</th>\n",
       "      <td>[]</td>\n",
       "      <td>Human coronavirus OC43</td>\n",
       "      <td>Human coronavirus OC43</td>\n",
       "      <td>13.0</td>\n",
       "      <td>False</td>\n",
       "      <td>CHEMBL5209665</td>\n",
       "      <td>[]</td>\n",
       "      <td>ORGANISM</td>\n",
       "      <td>31631</td>\n",
       "    </tr>\n",
       "    <tr>\n",
       "      <th>6</th>\n",
       "      <td>[{'xref_id': 'P0C6U8', 'xref_name': None, 'xre...</td>\n",
       "      <td>SARS coronavirus</td>\n",
       "      <td>SARS coronavirus 3C-like proteinase</td>\n",
       "      <td>10.0</td>\n",
       "      <td>False</td>\n",
       "      <td>CHEMBL3927</td>\n",
       "      <td>[{'accession': 'P0C6U8', 'component_descriptio...</td>\n",
       "      <td>SINGLE PROTEIN</td>\n",
       "      <td>227859</td>\n",
       "    </tr>\n",
       "    <tr>\n",
       "      <th>7</th>\n",
       "      <td>[]</td>\n",
       "      <td>Middle East respiratory syndrome-related coron...</td>\n",
       "      <td>Middle East respiratory syndrome-related coron...</td>\n",
       "      <td>9.0</td>\n",
       "      <td>False</td>\n",
       "      <td>CHEMBL4296578</td>\n",
       "      <td>[]</td>\n",
       "      <td>ORGANISM</td>\n",
       "      <td>1335626</td>\n",
       "    </tr>\n",
       "    <tr>\n",
       "      <th>8</th>\n",
       "      <td>[{'xref_id': 'P0C6X7', 'xref_name': None, 'xre...</td>\n",
       "      <td>SARS coronavirus</td>\n",
       "      <td>Replicase polyprotein 1ab</td>\n",
       "      <td>4.0</td>\n",
       "      <td>False</td>\n",
       "      <td>CHEMBL5118</td>\n",
       "      <td>[{'accession': 'P0C6X7', 'component_descriptio...</td>\n",
       "      <td>SINGLE PROTEIN</td>\n",
       "      <td>227859</td>\n",
       "    </tr>\n",
       "    <tr>\n",
       "      <th>9</th>\n",
       "      <td>[]</td>\n",
       "      <td>Severe acute respiratory syndrome coronavirus 2</td>\n",
       "      <td>Replicase polyprotein 1ab</td>\n",
       "      <td>4.0</td>\n",
       "      <td>False</td>\n",
       "      <td>CHEMBL4523582</td>\n",
       "      <td>[{'accession': 'P0DTD1', 'component_descriptio...</td>\n",
       "      <td>SINGLE PROTEIN</td>\n",
       "      <td>2697049</td>\n",
       "    </tr>\n",
       "  </tbody>\n",
       "</table>\n",
       "</div>"
      ],
      "text/plain": [
       "                                    cross_references  \\\n",
       "0                                                 []   \n",
       "1                                                 []   \n",
       "2                                                 []   \n",
       "3                                                 []   \n",
       "4                                                 []   \n",
       "5                                                 []   \n",
       "6  [{'xref_id': 'P0C6U8', 'xref_name': None, 'xre...   \n",
       "7                                                 []   \n",
       "8  [{'xref_id': 'P0C6X7', 'xref_name': None, 'xre...   \n",
       "9                                                 []   \n",
       "\n",
       "                                            organism  \\\n",
       "0                                        Coronavirus   \n",
       "1                                 Feline coronavirus   \n",
       "2                                 Murine coronavirus   \n",
       "3                                 Canine coronavirus   \n",
       "4                             Human coronavirus 229E   \n",
       "5                             Human coronavirus OC43   \n",
       "6                                   SARS coronavirus   \n",
       "7  Middle East respiratory syndrome-related coron...   \n",
       "8                                   SARS coronavirus   \n",
       "9    Severe acute respiratory syndrome coronavirus 2   \n",
       "\n",
       "                                           pref_name  score  \\\n",
       "0                                        Coronavirus   17.0   \n",
       "1                                 Feline coronavirus   14.0   \n",
       "2                                 Murine coronavirus   14.0   \n",
       "3                                 Canine coronavirus   14.0   \n",
       "4                             Human coronavirus 229E   13.0   \n",
       "5                             Human coronavirus OC43   13.0   \n",
       "6                SARS coronavirus 3C-like proteinase   10.0   \n",
       "7  Middle East respiratory syndrome-related coron...    9.0   \n",
       "8                          Replicase polyprotein 1ab    4.0   \n",
       "9                          Replicase polyprotein 1ab    4.0   \n",
       "\n",
       "   species_group_flag target_chembl_id  \\\n",
       "0               False     CHEMBL613732   \n",
       "1               False     CHEMBL612744   \n",
       "2               False    CHEMBL5209664   \n",
       "3               False    CHEMBL5291668   \n",
       "4               False     CHEMBL613837   \n",
       "5               False    CHEMBL5209665   \n",
       "6               False       CHEMBL3927   \n",
       "7               False    CHEMBL4296578   \n",
       "8               False       CHEMBL5118   \n",
       "9               False    CHEMBL4523582   \n",
       "\n",
       "                                   target_components     target_type   tax_id  \n",
       "0                                                 []        ORGANISM    11119  \n",
       "1                                                 []        ORGANISM    12663  \n",
       "2                                                 []        ORGANISM   694005  \n",
       "3                                                 []        ORGANISM    11153  \n",
       "4                                                 []        ORGANISM    11137  \n",
       "5                                                 []        ORGANISM    31631  \n",
       "6  [{'accession': 'P0C6U8', 'component_descriptio...  SINGLE PROTEIN   227859  \n",
       "7                                                 []        ORGANISM  1335626  \n",
       "8  [{'accession': 'P0C6X7', 'component_descriptio...  SINGLE PROTEIN   227859  \n",
       "9  [{'accession': 'P0DTD1', 'component_descriptio...  SINGLE PROTEIN  2697049  "
      ]
     },
     "execution_count": 9,
     "metadata": {},
     "output_type": "execute_result"
    }
   ],
   "source": [
    "# Target search for coronavirus\n",
    "target = new_client.target\n",
    "target_query = target.search('coronavirus')\n",
    "targets = pd.DataFrame.from_dict(target_query)\n",
    "targets"
   ]
  },
  {
   "cell_type": "markdown",
   "id": "e17a6a72-f457-43a2-bfb2-3e3aabffef93",
   "metadata": {},
   "source": [
    "I use single protein for further investigation"
   ]
  },
  {
   "cell_type": "markdown",
   "id": "86aee424-237c-4f63-a902-a0cd6157d4fb",
   "metadata": {},
   "source": [
    "### **Extract bioactivity data for *SARS coronavirus 3C-like proteinase* (7th entry) which has the target type of single protein**\n",
    "I assign the 7th entry (which corresponds to the target protein, *coronavirus 3C-like proteinase*) to the ***selected_target*** variable "
   ]
  },
  {
   "cell_type": "code",
   "execution_count": 10,
   "id": "fc1679d8-c1b5-43bc-ae72-b7c273ac92aa",
   "metadata": {},
   "outputs": [
    {
     "data": {
      "text/plain": [
       "'CHEMBL3927'"
      ]
     },
     "execution_count": 10,
     "metadata": {},
     "output_type": "execute_result"
    }
   ],
   "source": [
    "selected_target = targets.target_chembl_id[6]\n",
    "selected_target"
   ]
  },
  {
   "cell_type": "markdown",
   "id": "14f2190c-03eb-4195-a291-33815544135e",
   "metadata": {},
   "source": [
    "I consider only bioactivity data for *coronavirus 3C-like proteinase* (CHEMBL3927) that are reported as IC$_{50}$ values in nM (nanomolar) unit.\n",
    "the lower IC$_{50}$ value (standard_value) the better the potency of the drug becomes as less concentration of the drug is required to have 50% inhibition capability. Below, activity looks for activity of the small molecules on modulating the specified target protein \"selected_target\"."
   ]
  },
  {
   "cell_type": "code",
   "execution_count": 17,
   "id": "e29ca098-e06c-4de0-90cc-acdc76c230f2",
   "metadata": {},
   "outputs": [
    {
     "data": {
      "text/html": [
       "<div>\n",
       "<style scoped>\n",
       "    .dataframe tbody tr th:only-of-type {\n",
       "        vertical-align: middle;\n",
       "    }\n",
       "\n",
       "    .dataframe tbody tr th {\n",
       "        vertical-align: top;\n",
       "    }\n",
       "\n",
       "    .dataframe thead th {\n",
       "        text-align: right;\n",
       "    }\n",
       "</style>\n",
       "<table border=\"1\" class=\"dataframe\">\n",
       "  <thead>\n",
       "    <tr style=\"text-align: right;\">\n",
       "      <th></th>\n",
       "      <th>action_type</th>\n",
       "      <th>activity_comment</th>\n",
       "      <th>activity_id</th>\n",
       "      <th>activity_properties</th>\n",
       "      <th>assay_chembl_id</th>\n",
       "      <th>assay_description</th>\n",
       "      <th>assay_type</th>\n",
       "      <th>assay_variant_accession</th>\n",
       "      <th>assay_variant_mutation</th>\n",
       "      <th>bao_endpoint</th>\n",
       "      <th>...</th>\n",
       "      <th>target_organism</th>\n",
       "      <th>target_pref_name</th>\n",
       "      <th>target_tax_id</th>\n",
       "      <th>text_value</th>\n",
       "      <th>toid</th>\n",
       "      <th>type</th>\n",
       "      <th>units</th>\n",
       "      <th>uo_units</th>\n",
       "      <th>upper_value</th>\n",
       "      <th>value</th>\n",
       "    </tr>\n",
       "  </thead>\n",
       "  <tbody>\n",
       "    <tr>\n",
       "      <th>0</th>\n",
       "      <td>None</td>\n",
       "      <td>None</td>\n",
       "      <td>1480935</td>\n",
       "      <td>[]</td>\n",
       "      <td>CHEMBL829584</td>\n",
       "      <td>In vitro inhibitory concentration against SARS...</td>\n",
       "      <td>B</td>\n",
       "      <td>None</td>\n",
       "      <td>None</td>\n",
       "      <td>BAO_0000190</td>\n",
       "      <td>...</td>\n",
       "      <td>SARS coronavirus</td>\n",
       "      <td>SARS coronavirus 3C-like proteinase</td>\n",
       "      <td>227859</td>\n",
       "      <td>None</td>\n",
       "      <td>None</td>\n",
       "      <td>IC50</td>\n",
       "      <td>uM</td>\n",
       "      <td>UO_0000065</td>\n",
       "      <td>None</td>\n",
       "      <td>7.2</td>\n",
       "    </tr>\n",
       "    <tr>\n",
       "      <th>1</th>\n",
       "      <td>None</td>\n",
       "      <td>None</td>\n",
       "      <td>1480936</td>\n",
       "      <td>[]</td>\n",
       "      <td>CHEMBL829584</td>\n",
       "      <td>In vitro inhibitory concentration against SARS...</td>\n",
       "      <td>B</td>\n",
       "      <td>None</td>\n",
       "      <td>None</td>\n",
       "      <td>BAO_0000190</td>\n",
       "      <td>...</td>\n",
       "      <td>SARS coronavirus</td>\n",
       "      <td>SARS coronavirus 3C-like proteinase</td>\n",
       "      <td>227859</td>\n",
       "      <td>None</td>\n",
       "      <td>None</td>\n",
       "      <td>IC50</td>\n",
       "      <td>uM</td>\n",
       "      <td>UO_0000065</td>\n",
       "      <td>None</td>\n",
       "      <td>9.4</td>\n",
       "    </tr>\n",
       "    <tr>\n",
       "      <th>2</th>\n",
       "      <td>None</td>\n",
       "      <td>None</td>\n",
       "      <td>1481061</td>\n",
       "      <td>[]</td>\n",
       "      <td>CHEMBL830868</td>\n",
       "      <td>In vitro inhibitory concentration against SARS...</td>\n",
       "      <td>B</td>\n",
       "      <td>None</td>\n",
       "      <td>None</td>\n",
       "      <td>BAO_0000190</td>\n",
       "      <td>...</td>\n",
       "      <td>SARS coronavirus</td>\n",
       "      <td>SARS coronavirus 3C-like proteinase</td>\n",
       "      <td>227859</td>\n",
       "      <td>None</td>\n",
       "      <td>None</td>\n",
       "      <td>IC50</td>\n",
       "      <td>uM</td>\n",
       "      <td>UO_0000065</td>\n",
       "      <td>None</td>\n",
       "      <td>13.5</td>\n",
       "    </tr>\n",
       "  </tbody>\n",
       "</table>\n",
       "<p>3 rows × 46 columns</p>\n",
       "</div>"
      ],
      "text/plain": [
       "  action_type activity_comment  activity_id activity_properties  \\\n",
       "0        None             None      1480935                  []   \n",
       "1        None             None      1480936                  []   \n",
       "2        None             None      1481061                  []   \n",
       "\n",
       "  assay_chembl_id                                  assay_description  \\\n",
       "0    CHEMBL829584  In vitro inhibitory concentration against SARS...   \n",
       "1    CHEMBL829584  In vitro inhibitory concentration against SARS...   \n",
       "2    CHEMBL830868  In vitro inhibitory concentration against SARS...   \n",
       "\n",
       "  assay_type assay_variant_accession assay_variant_mutation bao_endpoint  ...  \\\n",
       "0          B                    None                   None  BAO_0000190  ...   \n",
       "1          B                    None                   None  BAO_0000190  ...   \n",
       "2          B                    None                   None  BAO_0000190  ...   \n",
       "\n",
       "    target_organism                     target_pref_name target_tax_id  \\\n",
       "0  SARS coronavirus  SARS coronavirus 3C-like proteinase        227859   \n",
       "1  SARS coronavirus  SARS coronavirus 3C-like proteinase        227859   \n",
       "2  SARS coronavirus  SARS coronavirus 3C-like proteinase        227859   \n",
       "\n",
       "  text_value  toid  type units    uo_units upper_value value  \n",
       "0       None  None  IC50    uM  UO_0000065        None   7.2  \n",
       "1       None  None  IC50    uM  UO_0000065        None   9.4  \n",
       "2       None  None  IC50    uM  UO_0000065        None  13.5  \n",
       "\n",
       "[3 rows x 46 columns]"
      ]
     },
     "execution_count": 17,
     "metadata": {},
     "output_type": "execute_result"
    }
   ],
   "source": [
    "\n",
    "activity = new_client.activity\n",
    "res = activity.filter(target_chembl_id=selected_target).filter(standard_type=\"IC50\")\n",
    "df = pd.DataFrame.from_dict(res)\n",
    "df.head(3)"
   ]
  },
  {
   "cell_type": "markdown",
   "id": "f6a25c80-1a75-4420-b8f0-775e8b1a9a48",
   "metadata": {},
   "source": [
    "Finally I save the resulting bioactivity data to a CSV file **bioactivity_data.csv** for further preprocessing before training the ML model."
   ]
  },
  {
   "cell_type": "code",
   "execution_count": 18,
   "id": "99600646-0840-418c-b591-c50b87f32e42",
   "metadata": {},
   "outputs": [],
   "source": [
    "df.to_csv('bioactivity_data.csv', index=False)"
   ]
  },
  {
   "cell_type": "markdown",
   "id": "9c003139-d54b-4efd-9e73-7ad270e92889",
   "metadata": {},
   "source": [
    "I transfered the generated data into a folder named \"Extracted_ChEMBL_data\"!"
   ]
  },
  {
   "cell_type": "markdown",
   "id": "ae868d6d-0812-4021-bd52-9cea31fd07bb",
   "metadata": {},
   "source": [
    "# **Section 2: Data Preprocessing**"
   ]
  },
  {
   "cell_type": "markdown",
   "id": "c0f7dfb8-a734-4153-b00c-9e70467356a2",
   "metadata": {},
   "source": [
    "## **Handling missing data**\n",
    "If any compounds has missing value for the **standard_value** column which is the value of the IC$_{50}$ then drop it"
   ]
  },
  {
   "cell_type": "code",
   "execution_count": 27,
   "id": "8638fee2-346f-4c5e-b023-e055d84f70ad",
   "metadata": {},
   "outputs": [
    {
     "name": "stdout",
     "output_type": "stream",
     "text": [
      "133\n"
     ]
    }
   ],
   "source": [
    "df2 = df[df.standard_value.notna()]\n",
    "print(df.shape[0])"
   ]
  },
  {
   "cell_type": "markdown",
   "id": "acd7bd97-a99d-4107-9b92-208cb9c9967c",
   "metadata": {},
   "source": [
    "Fortunately, this dataset has no missing data."
   ]
  }
 ],
 "metadata": {
  "kernelspec": {
   "display_name": "Python 3 (ipykernel)",
   "language": "python",
   "name": "python3"
  },
  "language_info": {
   "codemirror_mode": {
    "name": "ipython",
    "version": 3
   },
   "file_extension": ".py",
   "mimetype": "text/x-python",
   "name": "python",
   "nbconvert_exporter": "python",
   "pygments_lexer": "ipython3",
   "version": "3.11.9"
  }
 },
 "nbformat": 4,
 "nbformat_minor": 5
}
