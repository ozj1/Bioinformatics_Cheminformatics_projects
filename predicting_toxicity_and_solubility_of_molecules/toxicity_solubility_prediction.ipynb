{
  "nbformat": 4,
  "nbformat_minor": 0,
  "metadata": {
    "colab": {
      "provenance": [],
      "authorship_tag": "ABX9TyMR7TZjG3uDK1goEVoCH/qu",
      "include_colab_link": true
    },
    "kernelspec": {
      "name": "python3",
      "display_name": "Python 3"
    },
    "language_info": {
      "name": "python"
    }
  },
  "cells": [
    {
      "cell_type": "markdown",
      "metadata": {
        "id": "view-in-github",
        "colab_type": "text"
      },
      "source": [
        "<a href=\"https://colab.research.google.com/github/ozj1/Cheminformatics_projects/blob/main/predicting_toxicity_and_solubility_of_molecules/toxicity_solubility_prediction.ipynb\" target=\"_parent\"><img src=\"https://colab.research.google.com/assets/colab-badge.svg\" alt=\"Open In Colab\"/></a>"
      ]
    },
    {
      "cell_type": "code",
      "execution_count": 1,
      "metadata": {
        "colab": {
          "base_uri": "https://localhost:8080/"
        },
        "id": "OTkh-4-XRBet",
        "outputId": "d6a198df-36e5-4b9e-8871-232d50713ddd"
      },
      "outputs": [
        {
          "output_type": "stream",
          "name": "stdout",
          "text": [
            "Mounted at /content/drive\n"
          ]
        }
      ],
      "source": [
        "from google.colab import drive\n",
        "drive.mount('/content/drive')"
      ]
    },
    {
      "cell_type": "code",
      "source": [
        "pip install deepchem"
      ],
      "metadata": {
        "id": "WV9G-3oRRXy0"
      },
      "execution_count": null,
      "outputs": []
    },
    {
      "cell_type": "code",
      "source": [
        "pip install tensorflow"
      ],
      "metadata": {
        "id": "ugEZy7p_Rd0k"
      },
      "execution_count": null,
      "outputs": []
    },
    {
      "cell_type": "code",
      "source": [
        "pip install rdkit"
      ],
      "metadata": {
        "id": "FqX8a3rPRnFG"
      },
      "execution_count": null,
      "outputs": []
    },
    {
      "cell_type": "code",
      "source": [
        "import numpy as np\n",
        "import deepchem as dc\n",
        "tox21_tasks, tox21_datasets, transformers = dc.molnet.load_tox21()"
      ],
      "metadata": {
        "colab": {
          "base_uri": "https://localhost:8080/"
        },
        "id": "k7w3O_zzROl4",
        "outputId": "bb5fb5ba-b931-4717-9281-0e53b632342f"
      },
      "execution_count": 7,
      "outputs": [
        {
          "output_type": "stream",
          "name": "stderr",
          "text": [
            "WARNING:deepchem.models.torch_models:Skipped loading modules with pytorch-geometric dependency, missing a dependency. No module named 'torch_geometric'\n",
            "WARNING:deepchem.models:Skipped loading modules with pytorch-geometric dependency, missing a dependency. cannot import name 'DMPNN' from 'deepchem.models.torch_models' (/usr/local/lib/python3.8/dist-packages/deepchem/models/torch_models/__init__.py)\n",
            "WARNING:deepchem.models:Skipped loading modules with pytorch-lightning dependency, missing a dependency. No module named 'pytorch_lightning'\n",
            "WARNING:deepchem.models:Skipped loading some Jax models, missing a dependency. No module named 'haiku'\n",
            "[20:19:07] WARNING: not removing hydrogen atom without neighbors\n",
            "[20:19:21] WARNING: not removing hydrogen atom without neighbors\n"
          ]
        }
      ]
    },
    {
      "cell_type": "code",
      "source": [
        "print(tox21_tasks)"
      ],
      "metadata": {
        "colab": {
          "base_uri": "https://localhost:8080/"
        },
        "id": "H6At5bsiR4h0",
        "outputId": "9f57415b-5ad0-4c90-8b7b-8db6d24afe05"
      },
      "execution_count": 8,
      "outputs": [
        {
          "output_type": "stream",
          "name": "stdout",
          "text": [
            "['NR-AR', 'NR-AR-LBD', 'NR-AhR', 'NR-Aromatase', 'NR-ER', 'NR-ER-LBD', 'NR-PPAR-gamma', 'SR-ARE', 'SR-ATAD5', 'SR-HSE', 'SR-MMP', 'SR-p53']\n"
          ]
        }
      ]
    },
    {
      "cell_type": "code",
      "source": [
        "train_dataset, valid_dataset, test_dataset = tox21_datasets"
      ],
      "metadata": {
        "id": "7MIseVfaR88E"
      },
      "execution_count": 9,
      "outputs": []
    },
    {
      "cell_type": "code",
      "source": [
        "#dataset is not balanced, so we would need to balance the dataset.  \n",
        "#the transformer object used by default is a balancing transformer.\n",
        "#we have a MultiClass Classification problem\n",
        "print(transformers)\n"
      ],
      "metadata": {
        "colab": {
          "base_uri": "https://localhost:8080/"
        },
        "id": "HaChYJ5wR9F8",
        "outputId": "dc551721-afe9-4c26-a628-47349228dd3d"
      },
      "execution_count": 10,
      "outputs": [
        {
          "output_type": "stream",
          "name": "stdout",
          "text": [
            "[<deepchem.trans.transformers.BalancingTransformer object at 0x7f85a09edfa0>]\n"
          ]
        }
      ]
    },
    {
      "cell_type": "code",
      "source": [
        "#model training\n",
        "model = dc.models.MultitaskClassifier(n_tasks=12, n_features=1024, layer_sizes=[1000], dropouts=0.25)\n",
        "model.fit(train_dataset, nb_epoch=10)\n",
        "metric = dc.metrics.Metric(dc.metrics.roc_auc_score, np.mean)\n",
        "train_scores = model.evaluate(train_dataset, [metric], transformers)\n",
        "test_scores = model.evaluate(test_dataset, [metric], transformers)"
      ],
      "metadata": {
        "id": "bLV4z17QR9JI"
      },
      "execution_count": 11,
      "outputs": []
    },
    {
      "cell_type": "code",
      "source": [
        "print(train_scores)\n",
        "print(test_scores)"
      ],
      "metadata": {
        "colab": {
          "base_uri": "https://localhost:8080/"
        },
        "id": "hBsLv8fmR9M4",
        "outputId": "afbb9b5e-a4ea-479e-bebb-2d23e6b7efb3"
      },
      "execution_count": 14,
      "outputs": [
        {
          "output_type": "stream",
          "name": "stdout",
          "text": [
            "{'mean-roc_auc_score': 0.9648104215798003}\n",
            "{'mean-roc_auc_score': 0.6767138978788451}\n"
          ]
        }
      ]
    },
    {
      "cell_type": "code",
      "source": [
        "#now predicting the solubility of molecules\n",
        "#we use the delaney dataset from MoleculeNet\n",
        "\n",
        "# load the featurized data \n",
        "tasks, datasets, transformers = dc.molnet.load_delaney(featurizer='GraphConv')\n",
        "# Split into traintest-validation dataset\n",
        "train_dataset, valid_dataset, test_dataset = datasets\n",
        "# Fit the model\n",
        "model = dc.models.GraphConvModel(n_tasks=1, mode='regression', dropout=0.2)\n",
        "model.fit(train_dataset, nb_epoch=100)\n",
        "# Use r2 score as model evaluation metric\n",
        "metric = dc.metrics.Metric(dc.metrics.pearson_r2_score)\n",
        "print(model.evaluate(train_dataset, [metric], transformers))\n",
        "print(model.evaluate(test_dataset, [metric], transformers))"
      ],
      "metadata": {
        "colab": {
          "base_uri": "https://localhost:8080/"
        },
        "id": "SiNRQLW9R9ZS",
        "outputId": "dadb8f76-a753-4a5e-9e50-e45dddac7a51"
      },
      "execution_count": 15,
      "outputs": [
        {
          "output_type": "stream",
          "name": "stdout",
          "text": [
            "{'pearson_r2_score': 0.9235682299899222}\n",
            "{'pearson_r2_score': 0.6207297895760404}\n"
          ]
        }
      ]
    },
    {
      "cell_type": "code",
      "source": [],
      "metadata": {
        "id": "evPmWPfPR9ce"
      },
      "execution_count": null,
      "outputs": []
    },
    {
      "cell_type": "code",
      "source": [],
      "metadata": {
        "id": "CNFqOYshR9fH"
      },
      "execution_count": null,
      "outputs": []
    }
  ]
}